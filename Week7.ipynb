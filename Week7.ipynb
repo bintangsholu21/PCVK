{
  "nbformat": 4,
  "nbformat_minor": 0,
  "metadata": {
    "colab": {
      "provenance": [],
      "authorship_tag": "ABX9TyNYza5N2MRf+2ykqDK1YOl1",
      "include_colab_link": true
    },
    "kernelspec": {
      "name": "python3",
      "display_name": "Python 3"
    },
    "language_info": {
      "name": "python"
    }
  },
  "cells": [
    {
      "cell_type": "markdown",
      "metadata": {
        "id": "view-in-github",
        "colab_type": "text"
      },
      "source": [
        "<a href=\"https://colab.research.google.com/github/bintangsholu21/PCVK/blob/main/Week7.ipynb\" target=\"_parent\"><img src=\"https://colab.research.google.com/assets/colab-badge.svg\" alt=\"Open In Colab\"/></a>"
      ]
    },
    {
      "cell_type": "markdown",
      "source": [
        "## **MODUL 7 – Filter Spasial Low Pass Filter, High Pass Filter, Point Detection, Line Detection, Edge Detection**"
      ],
      "metadata": {
        "id": "-wIb4YnT51BM"
      }
    },
    {
      "cell_type": "markdown",
      "source": [
        "**Pengolahan Citra dan Visi Komputer – Jurusan Teknologi Informasi**\n",
        "\n",
        "---\n",
        "\n",
        "Nama : Muhammad Bintang Sholu Firmansyah\n",
        "\n",
        "Kelas : TI-3G\n",
        "\n",
        "No Absen : 16\n",
        "\n",
        "NIM : 2141720101\n",
        "\n",
        "---"
      ],
      "metadata": {
        "id": "13zNGP2D53gh"
      }
    },
    {
      "cell_type": "markdown",
      "source": [
        "## **Praktikum**"
      ],
      "metadata": {
        "id": "t9GJ-VKeBnqw"
      }
    },
    {
      "cell_type": "markdown",
      "source": [
        "1. Buatlah fungsi konvolusi menggunakan algoritma yang telah dijelaskan pada Bagian C, tanpa menggunakan library atau metode konvolusi dari OpenCV.\n",
        "2. Berikut merupakan langkah-langkah yang dapat dilakukan:\n",
        "\n",
        "  a. Buat notebook baru pada google colab, dan beri nama Week7.ipynb. Simpan Salinan pada akun github seperti pada modul sebelumnya.\n",
        "\n",
        "  b. Akses file yang terdapat pada drive dan import beberapa library yang dibutuhkan\n",
        "\n",
        "  c. Buatlah fungsi konvolusi. Catatan: parameter yang digunakan boleh dimodifikasi. Misal, hanya menggunakan parameter image dan kernel saja, atau image, kernel, dan padding.\n",
        "\n",
        "  d. Load citra yang akan diproses dan ubah menjadi citra keabuan\n",
        "\n",
        "  e. Tentukan kernel yang akan digunakan, contohnya kernel untuk filter sharpening sebagai berikut:\n",
        "\n",
        "  f. Memanggil fungsi konvolusi yang telah dibuat sebelumnya, dan menampilkan hasil konvolusinya:\n",
        "\n",
        "  3. Buat Image Filter untuk Average filter, low pass filter, high pass filter, dan beberapa filter berikut:"
      ],
      "metadata": {
        "id": "JGQqbUc4zopp"
      }
    }
  ]
}