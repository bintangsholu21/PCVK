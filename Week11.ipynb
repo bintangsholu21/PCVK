{
  "nbformat": 4,
  "nbformat_minor": 0,
  "metadata": {
    "colab": {
      "provenance": [],
      "authorship_tag": "ABX9TyOl+KR1eXg4srhRmYbhVKVl",
      "include_colab_link": true
    },
    "kernelspec": {
      "name": "python3",
      "display_name": "Python 3"
    },
    "language_info": {
      "name": "python"
    }
  },
  "cells": [
    {
      "cell_type": "markdown",
      "metadata": {
        "id": "view-in-github",
        "colab_type": "text"
      },
      "source": [
        "<a href=\"https://colab.research.google.com/github/bintangsholu21/PCVK/blob/main/Week11.ipynb\" target=\"_parent\"><img src=\"https://colab.research.google.com/assets/colab-badge.svg\" alt=\"Open In Colab\"/></a>"
      ]
    },
    {
      "cell_type": "markdown",
      "source": [
        "## **Modul 11 - –  Metode Deteksi Objek:  Template Matching, Edge Detection, Corner Detection, Grid Detection, Contour Detection**"
      ],
      "metadata": {
        "id": "-wIb4YnT51BM"
      }
    },
    {
      "cell_type": "markdown",
      "source": [
        "**Pengolahan Citra dan Visi Komputer – Jurusan Teknologi Informasi**\n",
        "\n",
        "---\n",
        "\n",
        "Nama : Muhammad Bintang Sholu Firmansyah\n",
        "\n",
        "Kelas : TI-3G\n",
        "\n",
        "No Absen : 16\n",
        "\n",
        "NIM : 2141720101\n",
        "\n",
        "---"
      ],
      "metadata": {
        "id": "13zNGP2D53gh"
      }
    },
    {
      "cell_type": "markdown",
      "source": [
        "## **Praktikum**"
      ],
      "metadata": {
        "id": "-oIXLRMDEedp"
      }
    }
  ]
}