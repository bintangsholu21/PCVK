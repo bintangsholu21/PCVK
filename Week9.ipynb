{
  "nbformat": 4,
  "nbformat_minor": 0,
  "metadata": {
    "colab": {
      "provenance": [],
      "authorship_tag": "ABX9TyPdnVaXuKgWMS/QeTjf6Ksj",
      "include_colab_link": true
    },
    "kernelspec": {
      "name": "python3",
      "display_name": "Python 3"
    },
    "language_info": {
      "name": "python"
    }
  },
  "cells": [
    {
      "cell_type": "markdown",
      "metadata": {
        "id": "view-in-github",
        "colab_type": "text"
      },
      "source": [
        "<a href=\"https://colab.research.google.com/github/bintangsholu21/PCVK/blob/main/Week9.ipynb\" target=\"_parent\"><img src=\"https://colab.research.google.com/assets/colab-badge.svg\" alt=\"Open In Colab\"/></a>"
      ]
    },
    {
      "cell_type": "markdown",
      "source": [
        "## **MODUL 9 – Morfologi**"
      ],
      "metadata": {
        "id": "-wIb4YnT51BM"
      }
    },
    {
      "cell_type": "markdown",
      "source": [
        "**Pengolahan Citra dan Visi Komputer – Jurusan Teknologi Informasi**\n",
        "\n",
        "---\n",
        "\n",
        "Nama : Muhammad Bintang Sholu Firmansyah\n",
        "\n",
        "Kelas : TI-3G\n",
        "\n",
        "No Absen : 16\n",
        "\n",
        "NIM : 2141720101\n",
        "\n",
        "---"
      ],
      "metadata": {
        "id": "13zNGP2D53gh"
      }
    },
    {
      "cell_type": "markdown",
      "source": [
        "## **TUGAS PRAKTIKUM**\n",
        "\n",
        "1. Buka https://colab.research.google.com/. Setelah dipastikan bahwa google Colab\n",
        "terhubung dengan Github Anda, lanjutkan dengan memilih repository yang telah\n",
        "digunakan pada praktikum minggu lalu, rename file menjadi “Week9.ipynb”.\n",
        "Kemudian import folder yang ada di Drive Anda dengan cara sebagai berikut.\n",
        "\n",
        "2. Import beberapa library berikut yang akan digunakan selama uji coba praktikum\n",
        "minggu ke-6 berikut.\n",
        "\n",
        "\n"
      ],
      "metadata": {
        "id": "t9GJ-VKeBnqw"
      }
    },
    {
      "cell_type": "markdown",
      "source": [
        "3. Buatlah fungsi dilasi serta tampilkan hasil dilasi pada citra dengan Structuring Element\n",
        "Dilasi (SED) berbentuk cross 3 x 3 tanpa menggunakan library morphology dari\n",
        "openCV, sehingga menghasilkan tampilan seperti di bawah ini: (Gunakan gambar\n",
        "morphology.png)"
      ],
      "metadata": {
        "id": "zddy_SidUiwj"
      }
    },
    {
      "cell_type": "markdown",
      "source": [
        "4. Buatlah program implementasi operasi dilasi Structuring Element Dilasi (SED)\n",
        "berbentuk cross 3 x 3 dengan menggunakan library morphology dari openCV,\n",
        "sehingga menghasilkan tampilan seperti di bawah ini: (Gunakan gambar\n",
        "morphology.png, dan cetak Structuring Element-nya)"
      ],
      "metadata": {
        "id": "c3Pp7k8vUldL"
      }
    },
    {
      "cell_type": "markdown",
      "source": [
        "5. Buatlah fungsi erosi serta tampilkan hasil erosi pada citra dengan Structuring Element\n",
        "Erosi (SE) berbentuk square 5 x 5 tanpa menggunakan library morphology dari\n",
        "openCV, sehingga menghasilkan tampilan seperti di bawah ini: (Gunakan gambar\n",
        "j.png)"
      ],
      "metadata": {
        "id": "WhhWa9-bUnmz"
      }
    },
    {
      "cell_type": "markdown",
      "source": [
        "6. Buatlah program implementasi operasi dilasi Structuring Element Erosi (SE) berbentuk\n",
        "square 5 x 5 dengan menggunakan library morphology dari openCV, sehingga\n",
        "menghasilkan tampilan seperti di bawah ini: (Gunakan gambar j.png)"
      ],
      "metadata": {
        "id": "-KxmjuavUo30"
      }
    },
    {
      "cell_type": "markdown",
      "source": [
        "7. Buatlah program implementasi operasi opening dengan Structuring Element\n",
        "berbentuk square 3 x 3 tanpa dan dengan menggunakan library morphology dari\n",
        "openCV, sehingga menghasilkan tampilan seperti di bawah ini: (Gunakan gambar\n",
        "fingerprint.png)"
      ],
      "metadata": {
        "id": "dgDi4Lq1UqN9"
      }
    },
    {
      "cell_type": "markdown",
      "source": [
        "8. Buatlah program implementasi operasi closing dengan Structuring Element berbentuk\n",
        "square 3 x 3 tanpa dan dengan menggunakan library morphology dari openCV,\n",
        "sehingga menghasilkan tampilan seperti di bawah ini: (Gunakan gambar\n",
        "fingerprint.png)"
      ],
      "metadata": {
        "id": "YOndvdI5UreK"
      }
    },
    {
      "cell_type": "markdown",
      "source": [
        "9. Buatlah program implementasi operasi dilasi dengan Structuring Element berbentuk\n",
        "Cross 3 x 3 dan 5 x 5, sehingga menghasilkan tampilan seperti di bawah ini: (Gunakan\n",
        "gambar j.png)"
      ],
      "metadata": {
        "id": "-FjYl-UPUsyy"
      }
    },
    {
      "cell_type": "markdown",
      "source": [
        "10. Buatlah program implementasi operasi dilasi dengan Structuring Element berbentuk\n",
        "Circular 3 x 3 dan 5 x 5, sehingga menghasilkan tampilan seperti di bawah ini:\n",
        "(Gunakan gambar j.png)"
      ],
      "metadata": {
        "id": "LOG3VwF1UuOa"
      }
    },
    {
      "cell_type": "markdown",
      "source": [
        "11. Buatlah program implementasi operasi erosi dengan Structuring Element berbentuk\n",
        "Rectangle 3 x 5 dan 5 x 7, sehingga menghasilkan tampilan seperti di bawah ini:\n",
        "(Gunakan gambar j.png)"
      ],
      "metadata": {
        "id": "CVDKAp50UvlL"
      }
    },
    {
      "cell_type": "markdown",
      "source": [
        "12. Buatlah program implementasi operasi erosi dengan Structuring Element berbentuk Line Vertikal 3 dan 5, sehingga menghasilkan tampilan seperti di bawah ini: (Gunakan gambar j.png)"
      ],
      "metadata": {
        "id": "s3-PUOgJUwzy"
      }
    }
  ]
}